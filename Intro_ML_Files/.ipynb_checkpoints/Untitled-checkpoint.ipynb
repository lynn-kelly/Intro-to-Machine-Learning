{
 "cells": [
  {
   "cell_type": "code",
   "execution_count": 10,
   "metadata": {},
   "outputs": [],
   "source": [
    "class Stack:\n",
    "    def __init__(self):\n",
    "        self.container = []\n",
    "    \n",
    "    def push(self, val):\n",
    "        self.container.append(val)\n",
    "    \n",
    "    def pop(self):\n",
    "        return self.container.pop()\n",
    "    \n",
    "    def __repr__(self):\n",
    "        return str(self.container)"
   ]
  },
  {
   "cell_type": "code",
   "execution_count": 15,
   "metadata": {},
   "outputs": [
    {
     "name": "stdout",
     "output_type": "stream",
     "text": [
      "[1, 2, 3]\n",
      "3\n",
      "[1, 2]\n"
     ]
    }
   ],
   "source": [
    "x = Stack()\n",
    "x.push(1)\n",
    "x.push(2)\n",
    "x.push(3)\n",
    "print(x)\n",
    "print(x.pop())\n",
    "print(x)"
   ]
  },
  {
   "cell_type": "code",
   "execution_count": 23,
   "metadata": {},
   "outputs": [],
   "source": [
    "class Node:\n",
    "    def __init__(self, value):\n",
    "        self.data = value\n",
    "        self.next = None\n",
    "\n",
    "\n",
    "class LinkedList:\n",
    "    def __init__(self, val):\n",
    "        self.head = Node(val)\n",
    "    \n",
    "    def append(self, val):\n",
    "        new_node = Node(val)\n",
    "        curr_node = self.head\n",
    "        while(curr_node.next != None):\n",
    "            curr_node = curr_node.next\n",
    "        curr_node.next = new_node\n",
    "    \n",
    "    def __repr__(self):\n",
    "        lst = []\n",
    "        curr_node = self.head\n",
    "        while(curr_node != None):\n",
    "            lst.append(curr_node.data)\n",
    "            curr_node = curr_node.next\n",
    "        return f'[{\", \".join(list(map(str, lst)))}]'\n",
    "            "
   ]
  },
  {
   "cell_type": "code",
   "execution_count": 25,
   "metadata": {},
   "outputs": [
    {
     "data": {
      "text/plain": [
       "[1, 2, 4, 6, 8]"
      ]
     },
     "execution_count": 25,
     "metadata": {},
     "output_type": "execute_result"
    }
   ],
   "source": [
    "x = LinkedList(1)\n",
    "x.append(2)\n",
    "x.append(4)\n",
    "x.append(6)\n",
    "x.append(8)\n",
    "\n",
    "x"
   ]
  },
  {
   "cell_type": "code",
   "execution_count": null,
   "metadata": {},
   "outputs": [],
   "source": []
  }
 ],
 "metadata": {
  "kernelspec": {
   "display_name": "Python 3",
   "language": "python",
   "name": "python3"
  },
  "language_info": {
   "codemirror_mode": {
    "name": "ipython",
    "version": 3
   },
   "file_extension": ".py",
   "mimetype": "text/x-python",
   "name": "python",
   "nbconvert_exporter": "python",
   "pygments_lexer": "ipython3",
   "version": "3.8.5"
  }
 },
 "nbformat": 4,
 "nbformat_minor": 4
}
